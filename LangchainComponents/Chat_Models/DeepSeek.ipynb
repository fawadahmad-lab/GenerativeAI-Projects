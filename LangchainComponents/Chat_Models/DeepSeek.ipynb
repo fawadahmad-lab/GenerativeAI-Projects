{
 "cells": [
  {
   "cell_type": "markdown",
   "metadata": {},
   "source": [
    "# Langchain Models - DEEPSEEK and MISTRAL "
   ]
  },
  {
   "cell_type": "code",
   "execution_count": null,
   "metadata": {},
   "outputs": [],
   "source": [
    "from langchain_deepseek import ChatDeepSeek\n",
    "from dotenv import load_dotenv\n",
    "import getpass\n",
    "import os \n",
    "load_dotenv()\n",
    "import getpass\n",
    "import os\n",
    "\n",
    "if not os.getenv(\"DEEPSEEK_API_KEY\"):\n",
    "    os.environ[\"DEEPSEEK_API_KEY\"] = getpass.getpass(\"Enter your DeepSeek API key: \")\n",
    "model=ChatDeepSeek(\n",
    "    model='deepseek-chat',\n",
    "    temperature=0,\n",
    "    max_completion_tokens=10,\n",
    "\n",
    "    )\n",
    "messages = [\n",
    "    (\n",
    "        \"system\",\n",
    "        \"You are a helpful assistant that translates English to French. Translate the user sentence.\",\n",
    "    ),\n",
    "    (\"human\", \"I love programming.\"),\n",
    "]\n",
    "ai_msg = model.invoke(messages)\n",
    "ai_msg.content\n"
   ]
  },
  {
   "cell_type": "markdown",
   "metadata": {},
   "source": [
    "# using Mistral Model"
   ]
  },
  {
   "cell_type": "code",
   "execution_count": 9,
   "metadata": {},
   "outputs": [
    {
     "name": "stdout",
     "output_type": "stream",
     "text": [
      "Gilgit-Baltistan is a region in northern Pakistan, bordering India, China, and Afghanistan. It is known for its stunning mountain landscapes, including some of the highest peaks in the world like K2.\n"
     ]
    }
   ],
   "source": [
    "from langchain_mistralai import ChatMistralAI\n",
    "model = ChatMistralAI(\n",
    "    mistral_api_key='qtyYxjAN6mJHKU2Gr8OjpzuGYPiGpKMG',\n",
    "    max_completion_tokens=5,\n",
    "    temperature=0)\n",
    "messages = [\n",
    "    (\n",
    "        \"system\",\n",
    "        \"You are a helpful assistant that knows general knowledge.give very short answer.\",\n",
    "    ),\n",
    "    (\"human\", \"where is gilgit baltistan.\"),\n",
    "]\n",
    "res=model.invoke(messages)\n",
    "print(res.content)\n",
    "\n"
   ]
  },
  {
   "cell_type": "code",
   "execution_count": null,
   "metadata": {},
   "outputs": [],
   "source": []
  }
 ],
 "metadata": {
  "kernelspec": {
   "display_name": "venv",
   "language": "python",
   "name": "python3"
  },
  "language_info": {
   "codemirror_mode": {
    "name": "ipython",
    "version": 3
   },
   "file_extension": ".py",
   "mimetype": "text/x-python",
   "name": "python",
   "nbconvert_exporter": "python",
   "pygments_lexer": "ipython3",
   "version": "3.11.5"
  }
 },
 "nbformat": 4,
 "nbformat_minor": 2
}
