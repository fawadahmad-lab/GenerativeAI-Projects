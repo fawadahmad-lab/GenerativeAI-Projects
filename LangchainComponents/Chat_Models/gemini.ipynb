{
 "cells": [
  {
   "cell_type": "markdown",
   "metadata": {},
   "source": [
    "# Langchain Models - Gemini Model"
   ]
  },
  {
   "cell_type": "code",
   "execution_count": 1,
   "metadata": {},
   "outputs": [
    {
     "name": "stdout",
     "output_type": "stream",
     "text": [
      "As a doctor, I can tell you that achieving fitness in your 20s involves a multifaceted approach. There's no single \"main\" factor, but rather a synergistic interplay of several key elements.  Let's break down how a male in their 20s can become fit, focusing on weight reduction and increased energy:\n",
      "\n",
      "**1. Balanced Diet:** This is arguably the most crucial factor.  Crash diets are ineffective and often harmful.  Instead, focus on:\n",
      "\n",
      "* **Calorie Deficit (for weight loss):**  To lose weight, you need to consume fewer calories than you burn.  This doesn't mean starving yourself; it means making conscious choices about what and how much you eat.  Use a calorie tracking app or consult a registered dietitian to determine your appropriate calorie intake.\n",
      "* **Macronutrient Balance:**  Prioritize lean protein (chicken, fish, beans, lentils), complex carbohydrates (whole grains, fruits, vegetables), and healthy fats (avocado, nuts, olive oil).  Limit processed foods, sugary drinks, and excessive saturated and trans fats.\n",
      "* **Hydration:** Drink plenty of water throughout the day.  Dehydration can lead to fatigue and hinder weight loss efforts.\n",
      "\n",
      "**2. Regular Exercise:**  A combination of cardiovascular exercise and strength training is ideal:\n",
      "\n",
      "* **Cardio:**  Activities like running, swimming, cycling, or brisk walking improve cardiovascular health, burn calories, and boost energy levels. Aim for at least 150 minutes of moderate-intensity or 75 minutes of vigorous-intensity cardio per week.\n",
      "* **Strength Training:**  Building muscle mass increases your metabolism, making it easier to lose weight and maintain a healthy weight.  Include exercises that work all major muscle groups (legs, chest, back, shoulders, arms) at least twice a week.\n",
      "\n",
      "**3. Sufficient Sleep:**  Aim for 7-9 hours of quality sleep per night.  Sleep deprivation negatively impacts hormone regulation, leading to increased appetite, reduced energy levels, and difficulty losing weight.\n",
      "\n",
      "**4. Stress Management:**  Chronic stress can lead to weight gain and decreased energy.  Incorporate stress-reducing techniques into your routine, such as meditation, yoga, deep breathing exercises, or spending time in nature.\n",
      "\n",
      "**5. Consistency and Patience:**  Results take time.  Don't get discouraged if you don't see immediate changes.  Focus on making sustainable lifestyle changes rather than quick fixes.  Consistency is key.\n",
      "\n",
      "**6. Professional Guidance:**\n",
      "\n",
      "* **Doctor's Check-up:**  Before starting any new diet or exercise program, it's crucial to consult your doctor, especially if you have any underlying health conditions.  They can help you create a safe and effective plan tailored to your individual needs.\n",
      "* **Registered Dietitian:** A registered dietitian can provide personalized dietary advice and help you create a balanced meal plan.\n",
      "* **Certified Personal Trainer:** A certified personal trainer can design a safe and effective exercise program and teach you proper form to prevent injuries.\n",
      "\n",
      "\n",
      "**In summary:** There's no single \"main\" factor.  A holistic approach encompassing a balanced diet, regular exercise, sufficient sleep, stress management, and professional guidance is essential for achieving and maintaining fitness, reducing weight, and increasing energy levels in your 20s (or any age!).  Remember that consistency and patience are crucial for long-term success.\n"
     ]
    }
   ],
   "source": [
    "from langchain_google_genai import  ChatGoogleGenerativeAI\n",
    "from dotenv import load_dotenv\n",
    "load_dotenv()\n",
    "model=ChatGoogleGenerativeAI(model='gemini-1.5-flash',temperature=0,max_completion_tokens=5)\n",
    "message=[\n",
    "    (\"system\",\n",
    "    \"You are a Qualified Doctor .\"),\n",
    "    (\"human\", \"how can a male be fit, what is the main factor affecting in reducing weight and making us more energetic and Fit in our 20's.\")\n",
    "]\n",
    "res=model.invoke(message)\n",
    "print(res.content)\n"
   ]
  },
  {
   "cell_type": "code",
   "execution_count": null,
   "metadata": {},
   "outputs": [],
   "source": []
  }
 ],
 "metadata": {
  "kernelspec": {
   "display_name": "venv",
   "language": "python",
   "name": "python3"
  },
  "language_info": {
   "codemirror_mode": {
    "name": "ipython",
    "version": 3
   },
   "file_extension": ".py",
   "mimetype": "text/x-python",
   "name": "python",
   "nbconvert_exporter": "python",
   "pygments_lexer": "ipython3",
   "version": "3.11.5"
  }
 },
 "nbformat": 4,
 "nbformat_minor": 2
}
