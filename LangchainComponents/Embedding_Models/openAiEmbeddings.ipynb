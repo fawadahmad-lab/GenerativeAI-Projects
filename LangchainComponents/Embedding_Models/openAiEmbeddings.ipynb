{
 "cells": [
  {
   "cell_type": "markdown",
   "metadata": {},
   "source": [
    "# LangChain Component - Emeddings (OpenAI Embeddings)"
   ]
  },
  {
   "cell_type": "code",
   "execution_count": null,
   "metadata": {},
   "outputs": [],
   "source": [
    "from langchain_openai import OpenAIEmbeddings\n",
    "from dotenv import load_dotenv\n",
    "load_dotenv()\n",
    "\n",
    "Embedding=OpenAIEmbeddings(model='text-embedding-3-large',dimensions=32)\n",
    "res=Embedding.embed_query('English is diverse')\n",
    "print(str(res))\n",
    "\n"
   ]
  },
  {
   "cell_type": "markdown",
   "metadata": {},
   "source": [
    "### Embedding for a Document"
   ]
  },
  {
   "cell_type": "code",
   "execution_count": null,
   "metadata": {},
   "outputs": [],
   "source": [
    "from langchain_openai import OpenAIEmbeddings\n",
    "from dotenv import load_dotenv\n",
    "load_dotenv()\n",
    "\n",
    "Embedding=OpenAIEmbeddings(model='text-embedding-3-large',dimensions=32)\n",
    "document=[\n",
    "    'English is diverse',\n",
    "    'English is diverse',\n",
    "    'English is diverse',\n",
    "]\n",
    "res=Embedding.embed_document(document)\n",
    "print(str(res))\n"
   ]
  }
 ],
 "metadata": {
  "kernelspec": {
   "display_name": "venv",
   "language": "python",
   "name": "python3"
  },
  "language_info": {
   "name": "python",
   "version": "3.11.5"
  }
 },
 "nbformat": 4,
 "nbformat_minor": 2
}
