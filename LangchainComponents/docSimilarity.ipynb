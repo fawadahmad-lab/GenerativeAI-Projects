{
 "cells": [
  {
   "cell_type": "markdown",
   "metadata": {},
   "source": [
    "## Document similarity search application"
   ]
  },
  {
   "cell_type": "code",
   "execution_count": 14,
   "metadata": {},
   "outputs": [
    {
     "name": "stdout",
     "output_type": "stream",
     "text": [
      "who is Ms. Aisha Umair\n",
      "Ms. Aisha Umair (Lecturer UIIT) is the Head of the Humanitarian Services Club.\n",
      "similarity score is :  0.7786437405224782\n"
     ]
    }
   ],
   "source": [
    "from langchain_huggingface import HuggingFaceEmbeddings \n",
    "from dotenv import load_dotenv\n",
    "from sklearn.metrics.pairwise import cosine_similarity\n",
    "import numpy as np\n",
    "load_dotenv()\n",
    "\n",
    "\n",
    "embeddings = HuggingFaceEmbeddings(model_name='sentence-transformers/all-MiniLM-L6-v2')\n",
    "document=[\n",
    "\"Dr. Kashif Ishaq (Lecturer DVM) is the Chairman of the Literary Society.\",\n",
    "\"Mr. Akhter Jan (Sports) is the Head of the Art Club.\",\n",
    "\"Ms. Asma Zafar (Lecturer Sociology) is the Head of the Dramatic Club.\",\n",
    "\"Ms. Aisha Umair (Lecturer UIIT) is the Head of the Humanitarian Services Club.\",\n",
    "\"Dr. Tariq Saddiqui (Asstt. Prof. Soil Sciences) is the Head of the Software Club.\",\n",
    "\"Syed Mushhad Mustuzhar Gilani (Lecturer UIIT) is the Head of the [Specify Club if known\"\n",
    "\n",
    "]\n",
    "query='who is Ms. Aisha Umair'\n",
    "doc_embeddings=embeddings.embed_documents(document)\n",
    "query_embeddings=embeddings.embed_query(query)\n",
    "response=cosine_similarity([query_embeddings],doc_embeddings)[0]\n",
    "\n",
    "index,score=sorted(list(enumerate(response)),key=lambda x:x[1])[-1]\n",
    "print(query)\n",
    "print(document[index])\n",
    "print('similarity score is : ', score )\n",
    "\n"
   ]
  },
  {
   "cell_type": "code",
   "execution_count": null,
   "metadata": {},
   "outputs": [],
   "source": []
  }
 ],
 "metadata": {
  "kernelspec": {
   "display_name": "venv",
   "language": "python",
   "name": "python3"
  },
  "language_info": {
   "codemirror_mode": {
    "name": "ipython",
    "version": 3
   },
   "file_extension": ".py",
   "mimetype": "text/x-python",
   "name": "python",
   "nbconvert_exporter": "python",
   "pygments_lexer": "ipython3",
   "version": "3.11.5"
  }
 },
 "nbformat": 4,
 "nbformat_minor": 2
}
